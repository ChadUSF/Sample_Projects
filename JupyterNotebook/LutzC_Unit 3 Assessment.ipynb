{
 "cells": [
  {
   "cell_type": "markdown",
   "metadata": {},
   "source": [
    "# Unit 3 Assessment"
   ]
  },
  {
   "cell_type": "markdown",
   "metadata": {},
   "source": [
    "In this assignment, we will focus on sensor data. The dataset contains accelerometer data from cell phones. Accelerometer helps measure the speed and acceleration of a cell phone's movement. Each row represents a single measurement (captured on a timeline). There are a total of 20 time steps (columns). This is a multiclass classification task: predict what type of transportation each measurement (i.e., row) represents based on the accelerometer data. "
   ]
  },
  {
   "cell_type": "markdown",
   "metadata": {},
   "source": [
    "## Description of Variables\n",
    "\n",
    "You will use the **movement.csv** data set for this assignment. Each row represents a single measurement. Columns labeled as 1 from 20 are the time steps on the timeline (there are 20 time steps, each time step has only one measurement). \n",
    "\n",
    "The last column is the target variable. It shows the label (category) of the measurement. Because it is a text-based column, **it must be converted to ordinal values.**"
   ]
  },
  {
   "cell_type": "markdown",
   "metadata": {},
   "source": [
    "## Goal\n",
    "\n",
    "Use the data set **movement.csv** to predict the column called **Target**. The input variables are columns labeled as **1 to 20**. "
   ]
  },
  {
   "cell_type": "markdown",
   "metadata": {},
   "source": [
    "## Submission:\n",
    "\n",
    "Please save and submit this Jupyter notebook file. The correctness of the code matters for your grade. **Readability and organization of your code is also important.** You may lose points for submitting unreadable/undecipherable code. Therefore, use markdown cells to create sections, and use comments where necessary.\n"
   ]
  },
  {
   "cell_type": "markdown",
   "metadata": {},
   "source": [
    "# Read and Prepare the Data (1 points)"
   ]
  },
  {
   "cell_type": "code",
   "execution_count": 1,
   "metadata": {},
   "outputs": [
    {
     "name": "stdout",
     "output_type": "stream",
     "text": [
      "WARNING:tensorflow:From C:\\Users\\chadu\\anaconda3\\lib\\site-packages\\keras\\src\\losses.py:2976: The name tf.losses.sparse_softmax_cross_entropy is deprecated. Please use tf.compat.v1.losses.sparse_softmax_cross_entropy instead.\n",
      "\n"
     ]
    }
   ],
   "source": [
    "import tensorflow as tf\n",
    "from tensorflow import keras\n",
    "from sklearn.metrics import mean_squared_error\n",
    "import numpy as np\n",
    "import os\n",
    "import pandas as pd\n",
    "\n",
    "np.random.seed(42)"
   ]
  },
  {
   "cell_type": "code",
   "execution_count": 2,
   "metadata": {},
   "outputs": [
    {
     "data": {
      "text/html": [
       "<div>\n",
       "<style scoped>\n",
       "    .dataframe tbody tr th:only-of-type {\n",
       "        vertical-align: middle;\n",
       "    }\n",
       "\n",
       "    .dataframe tbody tr th {\n",
       "        vertical-align: top;\n",
       "    }\n",
       "\n",
       "    .dataframe thead th {\n",
       "        text-align: right;\n",
       "    }\n",
       "</style>\n",
       "<table border=\"1\" class=\"dataframe\">\n",
       "  <thead>\n",
       "    <tr style=\"text-align: right;\">\n",
       "      <th></th>\n",
       "      <th>1</th>\n",
       "      <th>2</th>\n",
       "      <th>3</th>\n",
       "      <th>4</th>\n",
       "      <th>5</th>\n",
       "      <th>6</th>\n",
       "      <th>7</th>\n",
       "      <th>8</th>\n",
       "      <th>9</th>\n",
       "      <th>10</th>\n",
       "      <th>...</th>\n",
       "      <th>12</th>\n",
       "      <th>13</th>\n",
       "      <th>14</th>\n",
       "      <th>15</th>\n",
       "      <th>16</th>\n",
       "      <th>17</th>\n",
       "      <th>18</th>\n",
       "      <th>19</th>\n",
       "      <th>20</th>\n",
       "      <th>Target</th>\n",
       "    </tr>\n",
       "  </thead>\n",
       "  <tbody>\n",
       "    <tr>\n",
       "      <th>0</th>\n",
       "      <td>1.179784</td>\n",
       "      <td>1.179784</td>\n",
       "      <td>0.810629</td>\n",
       "      <td>0.810629</td>\n",
       "      <td>1.041816</td>\n",
       "      <td>1.041816</td>\n",
       "      <td>1.041816</td>\n",
       "      <td>0.453604</td>\n",
       "      <td>0.453604</td>\n",
       "      <td>0.483920</td>\n",
       "      <td>...</td>\n",
       "      <td>0.250571</td>\n",
       "      <td>0.250571</td>\n",
       "      <td>0.250571</td>\n",
       "      <td>0.250571</td>\n",
       "      <td>0.250571</td>\n",
       "      <td>0.250571</td>\n",
       "      <td>0.167502</td>\n",
       "      <td>0.167502</td>\n",
       "      <td>0.167502</td>\n",
       "      <td>Bus</td>\n",
       "    </tr>\n",
       "    <tr>\n",
       "      <th>1</th>\n",
       "      <td>1.115912</td>\n",
       "      <td>0.860983</td>\n",
       "      <td>0.860983</td>\n",
       "      <td>0.860983</td>\n",
       "      <td>0.860983</td>\n",
       "      <td>1.020423</td>\n",
       "      <td>1.020423</td>\n",
       "      <td>1.333723</td>\n",
       "      <td>1.333723</td>\n",
       "      <td>1.333723</td>\n",
       "      <td>...</td>\n",
       "      <td>1.582763</td>\n",
       "      <td>0.936744</td>\n",
       "      <td>0.936744</td>\n",
       "      <td>0.936744</td>\n",
       "      <td>0.936744</td>\n",
       "      <td>1.412754</td>\n",
       "      <td>3.283429</td>\n",
       "      <td>3.283429</td>\n",
       "      <td>3.283429</td>\n",
       "      <td>Bus</td>\n",
       "    </tr>\n",
       "    <tr>\n",
       "      <th>2</th>\n",
       "      <td>0.572300</td>\n",
       "      <td>0.147040</td>\n",
       "      <td>0.147040</td>\n",
       "      <td>0.147040</td>\n",
       "      <td>0.147040</td>\n",
       "      <td>0.147040</td>\n",
       "      <td>0.147040</td>\n",
       "      <td>0.147040</td>\n",
       "      <td>0.147040</td>\n",
       "      <td>2.662993</td>\n",
       "      <td>...</td>\n",
       "      <td>2.662993</td>\n",
       "      <td>2.662993</td>\n",
       "      <td>2.662993</td>\n",
       "      <td>1.449779</td>\n",
       "      <td>1.449779</td>\n",
       "      <td>1.147295</td>\n",
       "      <td>0.978355</td>\n",
       "      <td>0.978355</td>\n",
       "      <td>0.978355</td>\n",
       "      <td>Bus</td>\n",
       "    </tr>\n",
       "    <tr>\n",
       "      <th>3</th>\n",
       "      <td>1.128633</td>\n",
       "      <td>1.128633</td>\n",
       "      <td>1.128633</td>\n",
       "      <td>1.128633</td>\n",
       "      <td>1.128633</td>\n",
       "      <td>3.181596</td>\n",
       "      <td>4.012386</td>\n",
       "      <td>4.012386</td>\n",
       "      <td>1.349989</td>\n",
       "      <td>1.266019</td>\n",
       "      <td>...</td>\n",
       "      <td>1.266019</td>\n",
       "      <td>1.266019</td>\n",
       "      <td>0.492464</td>\n",
       "      <td>0.710132</td>\n",
       "      <td>0.710132</td>\n",
       "      <td>0.251398</td>\n",
       "      <td>0.251398</td>\n",
       "      <td>1.347456</td>\n",
       "      <td>1.347456</td>\n",
       "      <td>Bus</td>\n",
       "    </tr>\n",
       "    <tr>\n",
       "      <th>4</th>\n",
       "      <td>0.548065</td>\n",
       "      <td>0.548065</td>\n",
       "      <td>0.548065</td>\n",
       "      <td>1.441688</td>\n",
       "      <td>0.631261</td>\n",
       "      <td>0.631261</td>\n",
       "      <td>0.631261</td>\n",
       "      <td>9.258070</td>\n",
       "      <td>1.495908</td>\n",
       "      <td>0.723835</td>\n",
       "      <td>...</td>\n",
       "      <td>8.073005</td>\n",
       "      <td>8.073005</td>\n",
       "      <td>8.073005</td>\n",
       "      <td>8.073005</td>\n",
       "      <td>1.124158</td>\n",
       "      <td>0.399042</td>\n",
       "      <td>0.399042</td>\n",
       "      <td>0.399042</td>\n",
       "      <td>0.561521</td>\n",
       "      <td>Car</td>\n",
       "    </tr>\n",
       "  </tbody>\n",
       "</table>\n",
       "<p>5 rows × 21 columns</p>\n",
       "</div>"
      ],
      "text/plain": [
       "          1         2         3         4         5         6         7  \\\n",
       "0  1.179784  1.179784  0.810629  0.810629  1.041816  1.041816  1.041816   \n",
       "1  1.115912  0.860983  0.860983  0.860983  0.860983  1.020423  1.020423   \n",
       "2  0.572300  0.147040  0.147040  0.147040  0.147040  0.147040  0.147040   \n",
       "3  1.128633  1.128633  1.128633  1.128633  1.128633  3.181596  4.012386   \n",
       "4  0.548065  0.548065  0.548065  1.441688  0.631261  0.631261  0.631261   \n",
       "\n",
       "          8         9        10  ...        12        13        14        15  \\\n",
       "0  0.453604  0.453604  0.483920  ...  0.250571  0.250571  0.250571  0.250571   \n",
       "1  1.333723  1.333723  1.333723  ...  1.582763  0.936744  0.936744  0.936744   \n",
       "2  0.147040  0.147040  2.662993  ...  2.662993  2.662993  2.662993  1.449779   \n",
       "3  4.012386  1.349989  1.266019  ...  1.266019  1.266019  0.492464  0.710132   \n",
       "4  9.258070  1.495908  0.723835  ...  8.073005  8.073005  8.073005  8.073005   \n",
       "\n",
       "         16        17        18        19        20  Target  \n",
       "0  0.250571  0.250571  0.167502  0.167502  0.167502     Bus  \n",
       "1  0.936744  1.412754  3.283429  3.283429  3.283429     Bus  \n",
       "2  1.449779  1.147295  0.978355  0.978355  0.978355     Bus  \n",
       "3  0.710132  0.251398  0.251398  1.347456  1.347456     Bus  \n",
       "4  1.124158  0.399042  0.399042  0.399042  0.561521     Car  \n",
       "\n",
       "[5 rows x 21 columns]"
      ]
     },
     "execution_count": 2,
     "metadata": {},
     "output_type": "execute_result"
    }
   ],
   "source": [
    "# Ingest the data\n",
    "movement = pd.read_csv('movement.csv')\n",
    "\n",
    "# Review the data\n",
    "movement.head()"
   ]
  },
  {
   "cell_type": "code",
   "execution_count": 3,
   "metadata": {},
   "outputs": [
    {
     "data": {
      "text/plain": [
       "(118, 21)"
      ]
     },
     "execution_count": 3,
     "metadata": {},
     "output_type": "execute_result"
    }
   ],
   "source": [
    "# Confirm the shape of the data\n",
    "movement.shape"
   ]
  },
  {
   "cell_type": "code",
   "execution_count": 4,
   "metadata": {},
   "outputs": [],
   "source": [
    "# Apply label encoder on the Target values for classification\n",
    "from sklearn.preprocessing import LabelEncoder\n",
    "\n",
    "lbl_enc = LabelEncoder()\n",
    "movement['Target'] = lbl_enc.fit_transform(movement['Target'])"
   ]
  },
  {
   "cell_type": "code",
   "execution_count": 5,
   "metadata": {
    "scrolled": true
   },
   "outputs": [
    {
     "data": {
      "text/html": [
       "<div>\n",
       "<style scoped>\n",
       "    .dataframe tbody tr th:only-of-type {\n",
       "        vertical-align: middle;\n",
       "    }\n",
       "\n",
       "    .dataframe tbody tr th {\n",
       "        vertical-align: top;\n",
       "    }\n",
       "\n",
       "    .dataframe thead th {\n",
       "        text-align: right;\n",
       "    }\n",
       "</style>\n",
       "<table border=\"1\" class=\"dataframe\">\n",
       "  <thead>\n",
       "    <tr style=\"text-align: right;\">\n",
       "      <th></th>\n",
       "      <th>1</th>\n",
       "      <th>2</th>\n",
       "      <th>3</th>\n",
       "      <th>4</th>\n",
       "      <th>5</th>\n",
       "      <th>6</th>\n",
       "      <th>7</th>\n",
       "      <th>8</th>\n",
       "      <th>9</th>\n",
       "      <th>10</th>\n",
       "      <th>...</th>\n",
       "      <th>12</th>\n",
       "      <th>13</th>\n",
       "      <th>14</th>\n",
       "      <th>15</th>\n",
       "      <th>16</th>\n",
       "      <th>17</th>\n",
       "      <th>18</th>\n",
       "      <th>19</th>\n",
       "      <th>20</th>\n",
       "      <th>Target</th>\n",
       "    </tr>\n",
       "  </thead>\n",
       "  <tbody>\n",
       "    <tr>\n",
       "      <th>0</th>\n",
       "      <td>1.179784</td>\n",
       "      <td>1.179784</td>\n",
       "      <td>0.810629</td>\n",
       "      <td>0.810629</td>\n",
       "      <td>1.041816</td>\n",
       "      <td>1.041816</td>\n",
       "      <td>1.041816</td>\n",
       "      <td>0.453604</td>\n",
       "      <td>0.453604</td>\n",
       "      <td>0.483920</td>\n",
       "      <td>...</td>\n",
       "      <td>0.250571</td>\n",
       "      <td>0.250571</td>\n",
       "      <td>0.250571</td>\n",
       "      <td>0.250571</td>\n",
       "      <td>0.250571</td>\n",
       "      <td>0.250571</td>\n",
       "      <td>0.167502</td>\n",
       "      <td>0.167502</td>\n",
       "      <td>0.167502</td>\n",
       "      <td>0</td>\n",
       "    </tr>\n",
       "    <tr>\n",
       "      <th>1</th>\n",
       "      <td>1.115912</td>\n",
       "      <td>0.860983</td>\n",
       "      <td>0.860983</td>\n",
       "      <td>0.860983</td>\n",
       "      <td>0.860983</td>\n",
       "      <td>1.020423</td>\n",
       "      <td>1.020423</td>\n",
       "      <td>1.333723</td>\n",
       "      <td>1.333723</td>\n",
       "      <td>1.333723</td>\n",
       "      <td>...</td>\n",
       "      <td>1.582763</td>\n",
       "      <td>0.936744</td>\n",
       "      <td>0.936744</td>\n",
       "      <td>0.936744</td>\n",
       "      <td>0.936744</td>\n",
       "      <td>1.412754</td>\n",
       "      <td>3.283429</td>\n",
       "      <td>3.283429</td>\n",
       "      <td>3.283429</td>\n",
       "      <td>0</td>\n",
       "    </tr>\n",
       "    <tr>\n",
       "      <th>2</th>\n",
       "      <td>0.572300</td>\n",
       "      <td>0.147040</td>\n",
       "      <td>0.147040</td>\n",
       "      <td>0.147040</td>\n",
       "      <td>0.147040</td>\n",
       "      <td>0.147040</td>\n",
       "      <td>0.147040</td>\n",
       "      <td>0.147040</td>\n",
       "      <td>0.147040</td>\n",
       "      <td>2.662993</td>\n",
       "      <td>...</td>\n",
       "      <td>2.662993</td>\n",
       "      <td>2.662993</td>\n",
       "      <td>2.662993</td>\n",
       "      <td>1.449779</td>\n",
       "      <td>1.449779</td>\n",
       "      <td>1.147295</td>\n",
       "      <td>0.978355</td>\n",
       "      <td>0.978355</td>\n",
       "      <td>0.978355</td>\n",
       "      <td>0</td>\n",
       "    </tr>\n",
       "    <tr>\n",
       "      <th>3</th>\n",
       "      <td>1.128633</td>\n",
       "      <td>1.128633</td>\n",
       "      <td>1.128633</td>\n",
       "      <td>1.128633</td>\n",
       "      <td>1.128633</td>\n",
       "      <td>3.181596</td>\n",
       "      <td>4.012386</td>\n",
       "      <td>4.012386</td>\n",
       "      <td>1.349989</td>\n",
       "      <td>1.266019</td>\n",
       "      <td>...</td>\n",
       "      <td>1.266019</td>\n",
       "      <td>1.266019</td>\n",
       "      <td>0.492464</td>\n",
       "      <td>0.710132</td>\n",
       "      <td>0.710132</td>\n",
       "      <td>0.251398</td>\n",
       "      <td>0.251398</td>\n",
       "      <td>1.347456</td>\n",
       "      <td>1.347456</td>\n",
       "      <td>0</td>\n",
       "    </tr>\n",
       "    <tr>\n",
       "      <th>4</th>\n",
       "      <td>0.548065</td>\n",
       "      <td>0.548065</td>\n",
       "      <td>0.548065</td>\n",
       "      <td>1.441688</td>\n",
       "      <td>0.631261</td>\n",
       "      <td>0.631261</td>\n",
       "      <td>0.631261</td>\n",
       "      <td>9.258070</td>\n",
       "      <td>1.495908</td>\n",
       "      <td>0.723835</td>\n",
       "      <td>...</td>\n",
       "      <td>8.073005</td>\n",
       "      <td>8.073005</td>\n",
       "      <td>8.073005</td>\n",
       "      <td>8.073005</td>\n",
       "      <td>1.124158</td>\n",
       "      <td>0.399042</td>\n",
       "      <td>0.399042</td>\n",
       "      <td>0.399042</td>\n",
       "      <td>0.561521</td>\n",
       "      <td>1</td>\n",
       "    </tr>\n",
       "  </tbody>\n",
       "</table>\n",
       "<p>5 rows × 21 columns</p>\n",
       "</div>"
      ],
      "text/plain": [
       "          1         2         3         4         5         6         7  \\\n",
       "0  1.179784  1.179784  0.810629  0.810629  1.041816  1.041816  1.041816   \n",
       "1  1.115912  0.860983  0.860983  0.860983  0.860983  1.020423  1.020423   \n",
       "2  0.572300  0.147040  0.147040  0.147040  0.147040  0.147040  0.147040   \n",
       "3  1.128633  1.128633  1.128633  1.128633  1.128633  3.181596  4.012386   \n",
       "4  0.548065  0.548065  0.548065  1.441688  0.631261  0.631261  0.631261   \n",
       "\n",
       "          8         9        10  ...        12        13        14        15  \\\n",
       "0  0.453604  0.453604  0.483920  ...  0.250571  0.250571  0.250571  0.250571   \n",
       "1  1.333723  1.333723  1.333723  ...  1.582763  0.936744  0.936744  0.936744   \n",
       "2  0.147040  0.147040  2.662993  ...  2.662993  2.662993  2.662993  1.449779   \n",
       "3  4.012386  1.349989  1.266019  ...  1.266019  1.266019  0.492464  0.710132   \n",
       "4  9.258070  1.495908  0.723835  ...  8.073005  8.073005  8.073005  8.073005   \n",
       "\n",
       "         16        17        18        19        20  Target  \n",
       "0  0.250571  0.250571  0.167502  0.167502  0.167502       0  \n",
       "1  0.936744  1.412754  3.283429  3.283429  3.283429       0  \n",
       "2  1.449779  1.147295  0.978355  0.978355  0.978355       0  \n",
       "3  0.710132  0.251398  0.251398  1.347456  1.347456       0  \n",
       "4  1.124158  0.399042  0.399042  0.399042  0.561521       1  \n",
       "\n",
       "[5 rows x 21 columns]"
      ]
     },
     "execution_count": 5,
     "metadata": {},
     "output_type": "execute_result"
    }
   ],
   "source": [
    "movement.head()"
   ]
  },
  {
   "cell_type": "code",
   "execution_count": 6,
   "metadata": {},
   "outputs": [],
   "source": [
    "y = movement[['Target']]\n",
    "x = movement.drop('Target', axis=1)"
   ]
  },
  {
   "cell_type": "code",
   "execution_count": 7,
   "metadata": {},
   "outputs": [],
   "source": [
    "from sklearn.model_selection import train_test_split\n",
    "\n",
    "train_x, test_x, train_y, test_y = train_test_split(x, y, test_size=0.3)"
   ]
  },
  {
   "cell_type": "code",
   "execution_count": 8,
   "metadata": {},
   "outputs": [
    {
     "data": {
      "text/html": [
       "<div>\n",
       "<style scoped>\n",
       "    .dataframe tbody tr th:only-of-type {\n",
       "        vertical-align: middle;\n",
       "    }\n",
       "\n",
       "    .dataframe tbody tr th {\n",
       "        vertical-align: top;\n",
       "    }\n",
       "\n",
       "    .dataframe thead th {\n",
       "        text-align: right;\n",
       "    }\n",
       "</style>\n",
       "<table border=\"1\" class=\"dataframe\">\n",
       "  <thead>\n",
       "    <tr style=\"text-align: right;\">\n",
       "      <th></th>\n",
       "      <th>1</th>\n",
       "      <th>2</th>\n",
       "      <th>3</th>\n",
       "      <th>4</th>\n",
       "      <th>5</th>\n",
       "      <th>6</th>\n",
       "      <th>7</th>\n",
       "      <th>8</th>\n",
       "      <th>9</th>\n",
       "      <th>10</th>\n",
       "      <th>11</th>\n",
       "      <th>12</th>\n",
       "      <th>13</th>\n",
       "      <th>14</th>\n",
       "      <th>15</th>\n",
       "      <th>16</th>\n",
       "      <th>17</th>\n",
       "      <th>18</th>\n",
       "      <th>19</th>\n",
       "      <th>20</th>\n",
       "    </tr>\n",
       "  </thead>\n",
       "  <tbody>\n",
       "    <tr>\n",
       "      <th>62</th>\n",
       "      <td>2.314853</td>\n",
       "      <td>4.819996</td>\n",
       "      <td>2.373515</td>\n",
       "      <td>2.373515</td>\n",
       "      <td>2.373515</td>\n",
       "      <td>5.343154</td>\n",
       "      <td>5.234107</td>\n",
       "      <td>5.328037</td>\n",
       "      <td>2.147838</td>\n",
       "      <td>5.013407</td>\n",
       "      <td>5.082002</td>\n",
       "      <td>3.035419</td>\n",
       "      <td>3.068428</td>\n",
       "      <td>1.625365</td>\n",
       "      <td>1.625365</td>\n",
       "      <td>2.398082</td>\n",
       "      <td>4.666547</td>\n",
       "      <td>4.666547</td>\n",
       "      <td>5.222103</td>\n",
       "      <td>5.222103</td>\n",
       "    </tr>\n",
       "  </tbody>\n",
       "</table>\n",
       "</div>"
      ],
      "text/plain": [
       "           1         2         3         4         5         6         7  \\\n",
       "62  2.314853  4.819996  2.373515  2.373515  2.373515  5.343154  5.234107   \n",
       "\n",
       "           8         9        10        11        12        13        14  \\\n",
       "62  5.328037  2.147838  5.013407  5.082002  3.035419  3.068428  1.625365   \n",
       "\n",
       "          15        16        17        18        19        20  \n",
       "62  1.625365  2.398082  4.666547  4.666547  5.222103  5.222103  "
      ]
     },
     "execution_count": 8,
     "metadata": {},
     "output_type": "execute_result"
    }
   ],
   "source": [
    "train_x[:1]"
   ]
  },
  {
   "cell_type": "code",
   "execution_count": 9,
   "metadata": {},
   "outputs": [],
   "source": [
    "#Convert input variables to a 2-D array with float data type\n",
    "train_x= np.array(train_x)\n",
    "test_x= np.array(test_x)\n",
    "\n",
    "train_x = train_x.astype(np.float32)\n",
    "test_x = test_x.astype(np.float32)"
   ]
  },
  {
   "cell_type": "code",
   "execution_count": 10,
   "metadata": {},
   "outputs": [
    {
     "data": {
      "text/plain": [
       "array([[2.3148527, 4.819996 , 2.373515 , 2.373515 , 2.373515 , 5.343154 ,\n",
       "        5.234107 , 5.3280373, 2.1478376, 5.0134068, 5.082002 , 3.0354187,\n",
       "        3.0684278, 1.6253647, 1.6253647, 2.3980818, 4.6665473, 4.6665473,\n",
       "        5.2221026, 5.2221026]], dtype=float32)"
      ]
     },
     "execution_count": 10,
     "metadata": {},
     "output_type": "execute_result"
    }
   ],
   "source": [
    "train_x[:1]"
   ]
  },
  {
   "cell_type": "code",
   "execution_count": 11,
   "metadata": {},
   "outputs": [],
   "source": [
    "#Keras expects a different input format:\n",
    "#Data needs to have 3 dimensions\n",
    "\n",
    "train_x = np.reshape(train_x, (train_x.shape[0], train_x.shape[1], 1))\n",
    "test_x = np.reshape(test_x, (test_x.shape[0], test_x.shape[1], 1))"
   ]
  },
  {
   "cell_type": "code",
   "execution_count": 12,
   "metadata": {},
   "outputs": [
    {
     "data": {
      "text/plain": [
       "(82, 20, 1)"
      ]
     },
     "execution_count": 12,
     "metadata": {},
     "output_type": "execute_result"
    }
   ],
   "source": [
    "train_x.shape"
   ]
  },
  {
   "cell_type": "code",
   "execution_count": 13,
   "metadata": {},
   "outputs": [
    {
     "data": {
      "text/html": [
       "<div>\n",
       "<style scoped>\n",
       "    .dataframe tbody tr th:only-of-type {\n",
       "        vertical-align: middle;\n",
       "    }\n",
       "\n",
       "    .dataframe tbody tr th {\n",
       "        vertical-align: top;\n",
       "    }\n",
       "\n",
       "    .dataframe thead th {\n",
       "        text-align: right;\n",
       "    }\n",
       "</style>\n",
       "<table border=\"1\" class=\"dataframe\">\n",
       "  <thead>\n",
       "    <tr style=\"text-align: right;\">\n",
       "      <th></th>\n",
       "      <th>Target</th>\n",
       "    </tr>\n",
       "  </thead>\n",
       "  <tbody>\n",
       "    <tr>\n",
       "      <th>62</th>\n",
       "      <td>4</td>\n",
       "    </tr>\n",
       "  </tbody>\n",
       "</table>\n",
       "</div>"
      ],
      "text/plain": [
       "    Target\n",
       "62       4"
      ]
     },
     "execution_count": 13,
     "metadata": {},
     "output_type": "execute_result"
    }
   ],
   "source": [
    "train_y[:1]"
   ]
  },
  {
   "cell_type": "code",
   "execution_count": 14,
   "metadata": {},
   "outputs": [],
   "source": [
    "#Convert target variable to a 2-D array with float data type\n",
    "train_y= np.array(train_y)\n",
    "test_y= np.array(test_y)\n",
    "\n",
    "train_y = train_y.astype(np.float32)\n",
    "test_y = test_y.astype(np.float32)"
   ]
  },
  {
   "cell_type": "code",
   "execution_count": 15,
   "metadata": {},
   "outputs": [
    {
     "data": {
      "text/plain": [
       "array([[4.]], dtype=float32)"
      ]
     },
     "execution_count": 15,
     "metadata": {},
     "output_type": "execute_result"
    }
   ],
   "source": [
    "train_y[:1]"
   ]
  },
  {
   "cell_type": "code",
   "execution_count": 16,
   "metadata": {},
   "outputs": [],
   "source": [
    "#Keras expects a different input format:\n",
    "#Data needs to have 3 dimensions\n",
    "\n",
    "train_x = np.reshape(train_x, (train_x.shape[0], train_x.shape[1], 1))\n",
    "test_x = np.reshape(test_x, (test_x.shape[0], test_x.shape[1], 1))"
   ]
  },
  {
   "cell_type": "code",
   "execution_count": 17,
   "metadata": {},
   "outputs": [
    {
     "data": {
      "text/plain": [
       "(82, 1)"
      ]
     },
     "execution_count": 17,
     "metadata": {},
     "output_type": "execute_result"
    }
   ],
   "source": [
    "train_y.shape"
   ]
  },
  {
   "cell_type": "markdown",
   "metadata": {},
   "source": [
    "# Find the baseline (0.5 point)"
   ]
  },
  {
   "cell_type": "code",
   "execution_count": 18,
   "metadata": {},
   "outputs": [
    {
     "data": {
      "text/html": [
       "<style>#sk-container-id-1 {color: black;}#sk-container-id-1 pre{padding: 0;}#sk-container-id-1 div.sk-toggleable {background-color: white;}#sk-container-id-1 label.sk-toggleable__label {cursor: pointer;display: block;width: 100%;margin-bottom: 0;padding: 0.3em;box-sizing: border-box;text-align: center;}#sk-container-id-1 label.sk-toggleable__label-arrow:before {content: \"▸\";float: left;margin-right: 0.25em;color: #696969;}#sk-container-id-1 label.sk-toggleable__label-arrow:hover:before {color: black;}#sk-container-id-1 div.sk-estimator:hover label.sk-toggleable__label-arrow:before {color: black;}#sk-container-id-1 div.sk-toggleable__content {max-height: 0;max-width: 0;overflow: hidden;text-align: left;background-color: #f0f8ff;}#sk-container-id-1 div.sk-toggleable__content pre {margin: 0.2em;color: black;border-radius: 0.25em;background-color: #f0f8ff;}#sk-container-id-1 input.sk-toggleable__control:checked~div.sk-toggleable__content {max-height: 200px;max-width: 100%;overflow: auto;}#sk-container-id-1 input.sk-toggleable__control:checked~label.sk-toggleable__label-arrow:before {content: \"▾\";}#sk-container-id-1 div.sk-estimator input.sk-toggleable__control:checked~label.sk-toggleable__label {background-color: #d4ebff;}#sk-container-id-1 div.sk-label input.sk-toggleable__control:checked~label.sk-toggleable__label {background-color: #d4ebff;}#sk-container-id-1 input.sk-hidden--visually {border: 0;clip: rect(1px 1px 1px 1px);clip: rect(1px, 1px, 1px, 1px);height: 1px;margin: -1px;overflow: hidden;padding: 0;position: absolute;width: 1px;}#sk-container-id-1 div.sk-estimator {font-family: monospace;background-color: #f0f8ff;border: 1px dotted black;border-radius: 0.25em;box-sizing: border-box;margin-bottom: 0.5em;}#sk-container-id-1 div.sk-estimator:hover {background-color: #d4ebff;}#sk-container-id-1 div.sk-parallel-item::after {content: \"\";width: 100%;border-bottom: 1px solid gray;flex-grow: 1;}#sk-container-id-1 div.sk-label:hover label.sk-toggleable__label {background-color: #d4ebff;}#sk-container-id-1 div.sk-serial::before {content: \"\";position: absolute;border-left: 1px solid gray;box-sizing: border-box;top: 0;bottom: 0;left: 50%;z-index: 0;}#sk-container-id-1 div.sk-serial {display: flex;flex-direction: column;align-items: center;background-color: white;padding-right: 0.2em;padding-left: 0.2em;position: relative;}#sk-container-id-1 div.sk-item {position: relative;z-index: 1;}#sk-container-id-1 div.sk-parallel {display: flex;align-items: stretch;justify-content: center;background-color: white;position: relative;}#sk-container-id-1 div.sk-item::before, #sk-container-id-1 div.sk-parallel-item::before {content: \"\";position: absolute;border-left: 1px solid gray;box-sizing: border-box;top: 0;bottom: 0;left: 50%;z-index: -1;}#sk-container-id-1 div.sk-parallel-item {display: flex;flex-direction: column;z-index: 1;position: relative;background-color: white;}#sk-container-id-1 div.sk-parallel-item:first-child::after {align-self: flex-end;width: 50%;}#sk-container-id-1 div.sk-parallel-item:last-child::after {align-self: flex-start;width: 50%;}#sk-container-id-1 div.sk-parallel-item:only-child::after {width: 0;}#sk-container-id-1 div.sk-dashed-wrapped {border: 1px dashed gray;margin: 0 0.4em 0.5em 0.4em;box-sizing: border-box;padding-bottom: 0.4em;background-color: white;}#sk-container-id-1 div.sk-label label {font-family: monospace;font-weight: bold;display: inline-block;line-height: 1.2em;}#sk-container-id-1 div.sk-label-container {text-align: center;}#sk-container-id-1 div.sk-container {/* jupyter's `normalize.less` sets `[hidden] { display: none; }` but bootstrap.min.css set `[hidden] { display: none !important; }` so we also need the `!important` here to be able to override the default hidden behavior on the sphinx rendered scikit-learn.org. See: https://github.com/scikit-learn/scikit-learn/issues/21755 */display: inline-block !important;position: relative;}#sk-container-id-1 div.sk-text-repr-fallback {display: none;}</style><div id=\"sk-container-id-1\" class=\"sk-top-container\"><div class=\"sk-text-repr-fallback\"><pre>DummyClassifier(strategy=&#x27;most_frequent&#x27;)</pre><b>In a Jupyter environment, please rerun this cell to show the HTML representation or trust the notebook. <br />On GitHub, the HTML representation is unable to render, please try loading this page with nbviewer.org.</b></div><div class=\"sk-container\" hidden><div class=\"sk-item\"><div class=\"sk-estimator sk-toggleable\"><input class=\"sk-toggleable__control sk-hidden--visually\" id=\"sk-estimator-id-1\" type=\"checkbox\" checked><label for=\"sk-estimator-id-1\" class=\"sk-toggleable__label sk-toggleable__label-arrow\">DummyClassifier</label><div class=\"sk-toggleable__content\"><pre>DummyClassifier(strategy=&#x27;most_frequent&#x27;)</pre></div></div></div></div></div>"
      ],
      "text/plain": [
       "DummyClassifier(strategy='most_frequent')"
      ]
     },
     "execution_count": 18,
     "metadata": {},
     "output_type": "execute_result"
    }
   ],
   "source": [
    "from sklearn.dummy import DummyClassifier\n",
    "\n",
    "dummy_clf = DummyClassifier(strategy=\"most_frequent\")\n",
    "\n",
    "dummy_clf.fit(train_x, train_y)"
   ]
  },
  {
   "cell_type": "code",
   "execution_count": 19,
   "metadata": {},
   "outputs": [
    {
     "name": "stdout",
     "output_type": "stream",
     "text": [
      "Baseline Train Accuracy: 0.32926829268292684\n"
     ]
    }
   ],
   "source": [
    "from sklearn.metrics import accuracy_score\n",
    "#Baseline Train Accuracy\n",
    "dummy_train_pred = dummy_clf.predict(train_x)\n",
    "\n",
    "baseline_train_acc = accuracy_score(train_y, dummy_train_pred)\n",
    "\n",
    "print('Baseline Train Accuracy: {}' .format(baseline_train_acc))"
   ]
  },
  {
   "cell_type": "code",
   "execution_count": 20,
   "metadata": {},
   "outputs": [
    {
     "name": "stdout",
     "output_type": "stream",
     "text": [
      "Baseline Test Accuracy: 0.4444444444444444\n"
     ]
    }
   ],
   "source": [
    "#Baseline Test Accuracy\n",
    "dummy_test_pred = dummy_clf.predict(test_x)\n",
    "\n",
    "baseline_test_acc = accuracy_score(test_y, dummy_test_pred)\n",
    "\n",
    "print('Baseline Test Accuracy: {}' .format(baseline_test_acc))"
   ]
  },
  {
   "cell_type": "markdown",
   "metadata": {},
   "source": [
    "# Build a cross-sectional (i.e., a regular) Neural Network model using Keras (with only one hidden layer) (2 points)"
   ]
  },
  {
   "cell_type": "code",
   "execution_count": 21,
   "metadata": {},
   "outputs": [
    {
     "name": "stdout",
     "output_type": "stream",
     "text": [
      "WARNING:tensorflow:From C:\\Users\\chadu\\anaconda3\\lib\\site-packages\\keras\\src\\backend.py:873: The name tf.get_default_graph is deprecated. Please use tf.compat.v1.get_default_graph instead.\n",
      "\n"
     ]
    }
   ],
   "source": [
    "NN = keras.models.Sequential()\n",
    "\n",
    "NN.add(keras.layers.Input(shape=[train_x.shape[1],]))\n",
    "NN.add(keras.layers.Dense(20, activation='relu'))\n",
    "NN.add(keras.layers.Dense(5, activation='softmax'))"
   ]
  },
  {
   "cell_type": "code",
   "execution_count": 22,
   "metadata": {},
   "outputs": [
    {
     "name": "stdout",
     "output_type": "stream",
     "text": [
      "Epoch 1/30\n",
      "WARNING:tensorflow:From C:\\Users\\chadu\\anaconda3\\lib\\site-packages\\keras\\src\\utils\\tf_utils.py:492: The name tf.ragged.RaggedTensorValue is deprecated. Please use tf.compat.v1.ragged.RaggedTensorValue instead.\n",
      "\n",
      "WARNING:tensorflow:From C:\\Users\\chadu\\anaconda3\\lib\\site-packages\\keras\\src\\engine\\base_layer_utils.py:384: The name tf.executing_eagerly_outside_functions is deprecated. Please use tf.compat.v1.executing_eagerly_outside_functions instead.\n",
      "\n",
      "5/5 [==============================] - 1s 45ms/step - loss: 2.7984 - accuracy: 0.1707 - val_loss: 1.4019 - val_accuracy: 0.4444\n",
      "Epoch 2/30\n",
      "5/5 [==============================] - 0s 11ms/step - loss: 1.5541 - accuracy: 0.3171 - val_loss: 1.4342 - val_accuracy: 0.4167\n",
      "Epoch 3/30\n",
      "5/5 [==============================] - 0s 10ms/step - loss: 1.4537 - accuracy: 0.3537 - val_loss: 1.2625 - val_accuracy: 0.4722\n",
      "Epoch 4/30\n",
      "5/5 [==============================] - 0s 11ms/step - loss: 1.2631 - accuracy: 0.3659 - val_loss: 1.2594 - val_accuracy: 0.5278\n",
      "Epoch 5/30\n",
      "5/5 [==============================] - 0s 11ms/step - loss: 1.2291 - accuracy: 0.4146 - val_loss: 1.3410 - val_accuracy: 0.5278\n",
      "Epoch 6/30\n",
      "5/5 [==============================] - 0s 12ms/step - loss: 1.1812 - accuracy: 0.4878 - val_loss: 1.1389 - val_accuracy: 0.5278\n",
      "Epoch 7/30\n",
      "5/5 [==============================] - 0s 11ms/step - loss: 1.1017 - accuracy: 0.5000 - val_loss: 1.0936 - val_accuracy: 0.5278\n",
      "Epoch 8/30\n",
      "5/5 [==============================] - 0s 12ms/step - loss: 1.0901 - accuracy: 0.4878 - val_loss: 1.0585 - val_accuracy: 0.6111\n",
      "Epoch 9/30\n",
      "5/5 [==============================] - 0s 11ms/step - loss: 1.0350 - accuracy: 0.6220 - val_loss: 1.1263 - val_accuracy: 0.6111\n",
      "Epoch 10/30\n",
      "5/5 [==============================] - 0s 11ms/step - loss: 1.0225 - accuracy: 0.6585 - val_loss: 1.1706 - val_accuracy: 0.5833\n",
      "Epoch 11/30\n",
      "5/5 [==============================] - 0s 12ms/step - loss: 1.0037 - accuracy: 0.7073 - val_loss: 1.0937 - val_accuracy: 0.6389\n",
      "Epoch 12/30\n",
      "5/5 [==============================] - 0s 11ms/step - loss: 0.9674 - accuracy: 0.7317 - val_loss: 1.0102 - val_accuracy: 0.6667\n",
      "Epoch 13/30\n",
      "5/5 [==============================] - 0s 11ms/step - loss: 0.9676 - accuracy: 0.7195 - val_loss: 1.0085 - val_accuracy: 0.6111\n",
      "Epoch 14/30\n",
      "5/5 [==============================] - 0s 10ms/step - loss: 0.9210 - accuracy: 0.7439 - val_loss: 1.0894 - val_accuracy: 0.6667\n",
      "Epoch 15/30\n",
      "5/5 [==============================] - 0s 10ms/step - loss: 0.9129 - accuracy: 0.7439 - val_loss: 1.1363 - val_accuracy: 0.6389\n",
      "Epoch 16/30\n",
      "5/5 [==============================] - 0s 10ms/step - loss: 0.8918 - accuracy: 0.7439 - val_loss: 1.0844 - val_accuracy: 0.6111\n",
      "Epoch 17/30\n",
      "5/5 [==============================] - 0s 11ms/step - loss: 0.8366 - accuracy: 0.7561 - val_loss: 1.0139 - val_accuracy: 0.5833\n",
      "Epoch 18/30\n",
      "5/5 [==============================] - 0s 12ms/step - loss: 0.8189 - accuracy: 0.7683 - val_loss: 0.9885 - val_accuracy: 0.5833\n",
      "Epoch 19/30\n",
      "5/5 [==============================] - 0s 11ms/step - loss: 0.7772 - accuracy: 0.7683 - val_loss: 0.9533 - val_accuracy: 0.6944\n",
      "Epoch 20/30\n",
      "5/5 [==============================] - 0s 12ms/step - loss: 0.7484 - accuracy: 0.7683 - val_loss: 0.9308 - val_accuracy: 0.6667\n",
      "Epoch 21/30\n",
      "5/5 [==============================] - 0s 11ms/step - loss: 0.7303 - accuracy: 0.8049 - val_loss: 0.9402 - val_accuracy: 0.6111\n",
      "Epoch 22/30\n",
      "5/5 [==============================] - 0s 11ms/step - loss: 0.7294 - accuracy: 0.7683 - val_loss: 0.9207 - val_accuracy: 0.7222\n",
      "Epoch 23/30\n",
      "5/5 [==============================] - 0s 11ms/step - loss: 0.7031 - accuracy: 0.7805 - val_loss: 1.0249 - val_accuracy: 0.6944\n",
      "Epoch 24/30\n",
      "5/5 [==============================] - 0s 11ms/step - loss: 0.6833 - accuracy: 0.7805 - val_loss: 1.0403 - val_accuracy: 0.6944\n",
      "Epoch 25/30\n",
      "5/5 [==============================] - 0s 11ms/step - loss: 0.6475 - accuracy: 0.8171 - val_loss: 0.9519 - val_accuracy: 0.6667\n",
      "Epoch 26/30\n",
      "5/5 [==============================] - 0s 11ms/step - loss: 0.6249 - accuracy: 0.8171 - val_loss: 0.9567 - val_accuracy: 0.6389\n",
      "Epoch 27/30\n",
      "5/5 [==============================] - 0s 11ms/step - loss: 0.6086 - accuracy: 0.8293 - val_loss: 0.9533 - val_accuracy: 0.6667\n",
      "Epoch 28/30\n",
      "5/5 [==============================] - 0s 11ms/step - loss: 0.5747 - accuracy: 0.8293 - val_loss: 0.9670 - val_accuracy: 0.6667\n",
      "Epoch 29/30\n",
      "5/5 [==============================] - 0s 12ms/step - loss: 0.5652 - accuracy: 0.8049 - val_loss: 0.9790 - val_accuracy: 0.6667\n",
      "Epoch 30/30\n",
      "5/5 [==============================] - 0s 11ms/step - loss: 0.5428 - accuracy: 0.8293 - val_loss: 0.9196 - val_accuracy: 0.6667\n"
     ]
    }
   ],
   "source": [
    "np.random.seed(42)\n",
    "tf.random.set_seed(42)\n",
    "\n",
    "optimizer = tf.keras.optimizers.Adam(learning_rate=0.01)\n",
    "\n",
    "NN.compile(loss=\"sparse_categorical_crossentropy\", optimizer=optimizer, metrics=['accuracy'])\n",
    "\n",
    "history = NN.fit(train_x, train_y, epochs=30,\n",
    "                    validation_data=(test_x, test_y),\n",
    "                   batch_size=20)"
   ]
  },
  {
   "cell_type": "code",
   "execution_count": 23,
   "metadata": {},
   "outputs": [
    {
     "name": "stdout",
     "output_type": "stream",
     "text": [
      "Train loss: 0.52\n",
      "Train accuracy: 85.37%\n"
     ]
    }
   ],
   "source": [
    "# Train values\n",
    "train_scores = NN.evaluate(train_x, train_y, verbose=0)\n",
    "\n",
    "# Print the values\n",
    "print(f\"Train {NN.metrics_names[0]}: {train_scores[0]:.2f}\")\n",
    "print(f\"Train {NN.metrics_names[1]}: {train_scores[1]*100:.2f}%\")"
   ]
  },
  {
   "cell_type": "code",
   "execution_count": 24,
   "metadata": {},
   "outputs": [
    {
     "name": "stdout",
     "output_type": "stream",
     "text": [
      "Test loss: 0.92\n",
      "Test accuracy: 66.67%\n"
     ]
    }
   ],
   "source": [
    "# Test values\n",
    "\n",
    "test_scores = NN.evaluate(test_x, test_y, verbose=0)\n",
    "print(f\"Test {NN.metrics_names[0]}: {test_scores[0]:.2f}\")\n",
    "print(f\"Test {NN.metrics_names[1]}: {test_scores[1]*100:.2f}%\")"
   ]
  },
  {
   "cell_type": "markdown",
   "metadata": {},
   "source": [
    "# Build a deep cross-sectional (i.e., regular) Neural Network model using Keras (with two or more hidden layers) (2 points)"
   ]
  },
  {
   "cell_type": "code",
   "execution_count": 25,
   "metadata": {},
   "outputs": [],
   "source": [
    "DNN = keras.models.Sequential()\n",
    "\n",
    "DNN.add(keras.layers.Input(shape=[train_x.shape[1],]))\n",
    "DNN.add(keras.layers.Dense(20, activation='relu'))\n",
    "DNN.add(keras.layers.Dense(15, activation='relu'))\n",
    "DNN.add(keras.layers.Dense(10, activation='relu'))\n",
    "DNN.add(keras.layers.Dense(5, activation='softmax'))"
   ]
  },
  {
   "cell_type": "code",
   "execution_count": 26,
   "metadata": {},
   "outputs": [
    {
     "name": "stdout",
     "output_type": "stream",
     "text": [
      "Epoch 1/30\n",
      "5/5 [==============================] - 1s 44ms/step - loss: 1.6764 - accuracy: 0.1585 - val_loss: 1.0634 - val_accuracy: 0.4722\n",
      "Epoch 2/30\n",
      "5/5 [==============================] - 0s 13ms/step - loss: 1.2862 - accuracy: 0.3659 - val_loss: 1.0208 - val_accuracy: 0.4722\n",
      "Epoch 3/30\n",
      "5/5 [==============================] - 0s 12ms/step - loss: 1.2402 - accuracy: 0.3659 - val_loss: 1.0340 - val_accuracy: 0.4722\n",
      "Epoch 4/30\n",
      "5/5 [==============================] - 0s 11ms/step - loss: 1.2127 - accuracy: 0.4024 - val_loss: 0.9907 - val_accuracy: 0.5278\n",
      "Epoch 5/30\n",
      "5/5 [==============================] - 0s 11ms/step - loss: 1.1681 - accuracy: 0.4512 - val_loss: 0.9411 - val_accuracy: 0.5833\n",
      "Epoch 6/30\n",
      "5/5 [==============================] - 0s 11ms/step - loss: 1.1222 - accuracy: 0.4878 - val_loss: 0.9156 - val_accuracy: 0.5833\n",
      "Epoch 7/30\n",
      "5/5 [==============================] - 0s 11ms/step - loss: 1.0758 - accuracy: 0.4878 - val_loss: 0.8737 - val_accuracy: 0.5833\n",
      "Epoch 8/30\n",
      "5/5 [==============================] - 0s 9ms/step - loss: 1.0322 - accuracy: 0.5366 - val_loss: 0.8256 - val_accuracy: 0.5833\n",
      "Epoch 9/30\n",
      "5/5 [==============================] - 0s 10ms/step - loss: 0.9657 - accuracy: 0.5976 - val_loss: 0.8012 - val_accuracy: 0.6111\n",
      "Epoch 10/30\n",
      "5/5 [==============================] - 0s 12ms/step - loss: 0.9052 - accuracy: 0.5976 - val_loss: 0.8234 - val_accuracy: 0.6111\n",
      "Epoch 11/30\n",
      "5/5 [==============================] - 0s 11ms/step - loss: 0.8437 - accuracy: 0.6341 - val_loss: 0.8429 - val_accuracy: 0.5833\n",
      "Epoch 12/30\n",
      "5/5 [==============================] - 0s 11ms/step - loss: 0.8336 - accuracy: 0.6585 - val_loss: 0.7589 - val_accuracy: 0.5833\n",
      "Epoch 13/30\n",
      "5/5 [==============================] - 0s 10ms/step - loss: 0.8481 - accuracy: 0.6707 - val_loss: 0.7511 - val_accuracy: 0.6389\n",
      "Epoch 14/30\n",
      "5/5 [==============================] - 0s 10ms/step - loss: 0.7413 - accuracy: 0.6707 - val_loss: 0.8511 - val_accuracy: 0.5833\n",
      "Epoch 15/30\n",
      "5/5 [==============================] - 0s 12ms/step - loss: 0.7563 - accuracy: 0.6098 - val_loss: 0.9203 - val_accuracy: 0.5833\n",
      "Epoch 16/30\n",
      "5/5 [==============================] - 0s 12ms/step - loss: 0.7509 - accuracy: 0.6341 - val_loss: 0.9159 - val_accuracy: 0.6111\n",
      "Epoch 17/30\n",
      "5/5 [==============================] - 0s 10ms/step - loss: 0.7183 - accuracy: 0.6463 - val_loss: 0.9250 - val_accuracy: 0.6111\n",
      "Epoch 18/30\n",
      "5/5 [==============================] - 0s 11ms/step - loss: 0.6991 - accuracy: 0.6585 - val_loss: 0.8794 - val_accuracy: 0.6111\n",
      "Epoch 19/30\n",
      "5/5 [==============================] - 0s 12ms/step - loss: 0.6509 - accuracy: 0.7073 - val_loss: 0.8197 - val_accuracy: 0.6111\n",
      "Epoch 20/30\n",
      "5/5 [==============================] - 0s 11ms/step - loss: 0.6485 - accuracy: 0.7561 - val_loss: 0.7685 - val_accuracy: 0.5833\n",
      "Epoch 21/30\n",
      "5/5 [==============================] - 0s 13ms/step - loss: 0.6411 - accuracy: 0.7317 - val_loss: 0.7268 - val_accuracy: 0.6111\n",
      "Epoch 22/30\n",
      "5/5 [==============================] - 0s 10ms/step - loss: 0.6337 - accuracy: 0.7683 - val_loss: 0.7334 - val_accuracy: 0.6667\n",
      "Epoch 23/30\n",
      "5/5 [==============================] - 0s 11ms/step - loss: 0.6285 - accuracy: 0.7561 - val_loss: 0.8168 - val_accuracy: 0.6389\n",
      "Epoch 24/30\n",
      "5/5 [==============================] - 0s 11ms/step - loss: 0.5741 - accuracy: 0.8171 - val_loss: 0.8775 - val_accuracy: 0.6111\n",
      "Epoch 25/30\n",
      "5/5 [==============================] - 0s 12ms/step - loss: 0.5702 - accuracy: 0.8293 - val_loss: 0.8856 - val_accuracy: 0.6111\n",
      "Epoch 26/30\n",
      "5/5 [==============================] - 0s 11ms/step - loss: 0.5566 - accuracy: 0.8171 - val_loss: 0.9230 - val_accuracy: 0.6389\n",
      "Epoch 27/30\n",
      "5/5 [==============================] - 0s 11ms/step - loss: 0.5269 - accuracy: 0.8171 - val_loss: 0.8610 - val_accuracy: 0.6389\n",
      "Epoch 28/30\n",
      "5/5 [==============================] - 0s 11ms/step - loss: 0.5051 - accuracy: 0.8049 - val_loss: 0.8462 - val_accuracy: 0.6389\n",
      "Epoch 29/30\n",
      "5/5 [==============================] - 0s 12ms/step - loss: 0.4980 - accuracy: 0.8171 - val_loss: 0.9346 - val_accuracy: 0.5833\n",
      "Epoch 30/30\n",
      "5/5 [==============================] - 0s 11ms/step - loss: 0.5133 - accuracy: 0.8049 - val_loss: 0.8384 - val_accuracy: 0.6111\n"
     ]
    }
   ],
   "source": [
    "np.random.seed(42)\n",
    "tf.random.set_seed(42)\n",
    "\n",
    "optimizer = tf.keras.optimizers.Adam(learning_rate=0.01)\n",
    "\n",
    "DNN.compile(loss=\"sparse_categorical_crossentropy\", optimizer=optimizer, metrics=['accuracy'])\n",
    "\n",
    "history = DNN.fit(train_x, train_y, epochs=30,\n",
    "                    validation_data=(test_x, test_y),\n",
    "                   batch_size=20)"
   ]
  },
  {
   "cell_type": "code",
   "execution_count": 27,
   "metadata": {},
   "outputs": [
    {
     "name": "stdout",
     "output_type": "stream",
     "text": [
      "Model: \"sequential_1\"\n",
      "_________________________________________________________________\n",
      " Layer (type)                Output Shape              Param #   \n",
      "=================================================================\n",
      " dense_2 (Dense)             (None, 20)                420       \n",
      "                                                                 \n",
      " dense_3 (Dense)             (None, 15)                315       \n",
      "                                                                 \n",
      " dense_4 (Dense)             (None, 10)                160       \n",
      "                                                                 \n",
      " dense_5 (Dense)             (None, 5)                 55        \n",
      "                                                                 \n",
      "=================================================================\n",
      "Total params: 950 (3.71 KB)\n",
      "Trainable params: 950 (3.71 KB)\n",
      "Non-trainable params: 0 (0.00 Byte)\n",
      "_________________________________________________________________\n"
     ]
    }
   ],
   "source": [
    "DNN.summary()"
   ]
  },
  {
   "cell_type": "code",
   "execution_count": 28,
   "metadata": {},
   "outputs": [
    {
     "name": "stdout",
     "output_type": "stream",
     "text": [
      "Train loss: 0.48\n",
      "Train accuracy: 81.71%\n"
     ]
    }
   ],
   "source": [
    "# Train values\n",
    "train_scores = DNN.evaluate(train_x, train_y, verbose=0)\n",
    "\n",
    "# Print the values\n",
    "print(f\"Train {DNN.metrics_names[0]}: {train_scores[0]:.2f}\")\n",
    "print(f\"Train {DNN.metrics_names[1]}: {train_scores[1]*100:.2f}%\")"
   ]
  },
  {
   "cell_type": "code",
   "execution_count": 29,
   "metadata": {},
   "outputs": [
    {
     "name": "stdout",
     "output_type": "stream",
     "text": [
      "Test loss: 0.84\n",
      "Test accuracy: 61.11%\n"
     ]
    }
   ],
   "source": [
    "# Test values\n",
    "test_scores = DNN.evaluate(test_x, test_y, verbose=0)\n",
    "print(f\"Test {DNN.metrics_names[0]}: {test_scores[0]:.2f}\")\n",
    "print(f\"Test {DNN.metrics_names[1]}: {test_scores[1]*100:.2f}%\")"
   ]
  },
  {
   "cell_type": "markdown",
   "metadata": {},
   "source": [
    "# Build a LSTM Model (with only one layer) (2 points)"
   ]
  },
  {
   "cell_type": "code",
   "execution_count": 30,
   "metadata": {},
   "outputs": [],
   "source": [
    "n_steps = 20\n",
    "n_inputs = 1\n",
    "\n",
    "LTSM = keras.models.Sequential([\n",
    "    keras.layers.LSTM(20, input_shape=[n_steps, n_inputs]),\n",
    "    keras.layers.Dense(5, activation='softmax')\n",
    "])"
   ]
  },
  {
   "cell_type": "code",
   "execution_count": 31,
   "metadata": {},
   "outputs": [],
   "source": [
    "from tensorflow.keras.callbacks import EarlyStopping\n",
    "\n",
    "earlystop = EarlyStopping(monitor='loss', patience=5, verbose=1, mode='auto')\n",
    "\n",
    "callback = [earlystop]"
   ]
  },
  {
   "cell_type": "code",
   "execution_count": 32,
   "metadata": {},
   "outputs": [
    {
     "name": "stdout",
     "output_type": "stream",
     "text": [
      "Epoch 1/20\n",
      "5/5 [==============================] - 2s 110ms/step - loss: 1.4293 - accuracy: 0.3537 - val_loss: 1.1252 - val_accuracy: 0.5278\n",
      "Epoch 2/20\n",
      "5/5 [==============================] - 0s 15ms/step - loss: 1.2316 - accuracy: 0.4512 - val_loss: 0.9435 - val_accuracy: 0.6111\n",
      "Epoch 3/20\n",
      "5/5 [==============================] - 0s 17ms/step - loss: 1.0829 - accuracy: 0.5244 - val_loss: 1.0196 - val_accuracy: 0.6111\n",
      "Epoch 4/20\n",
      "5/5 [==============================] - 0s 17ms/step - loss: 1.0093 - accuracy: 0.5976 - val_loss: 0.9154 - val_accuracy: 0.6944\n",
      "Epoch 5/20\n",
      "5/5 [==============================] - 0s 16ms/step - loss: 0.9519 - accuracy: 0.5854 - val_loss: 0.8216 - val_accuracy: 0.6389\n",
      "Epoch 6/20\n",
      "5/5 [==============================] - 0s 16ms/step - loss: 0.9497 - accuracy: 0.5488 - val_loss: 0.7279 - val_accuracy: 0.6111\n",
      "Epoch 7/20\n",
      "5/5 [==============================] - 0s 17ms/step - loss: 0.8574 - accuracy: 0.6585 - val_loss: 0.7155 - val_accuracy: 0.6111\n",
      "Epoch 8/20\n",
      "5/5 [==============================] - 0s 15ms/step - loss: 0.8420 - accuracy: 0.6220 - val_loss: 0.7542 - val_accuracy: 0.5833\n",
      "Epoch 9/20\n",
      "5/5 [==============================] - 0s 17ms/step - loss: 0.8302 - accuracy: 0.6098 - val_loss: 0.7851 - val_accuracy: 0.6389\n",
      "Epoch 10/20\n",
      "5/5 [==============================] - 0s 16ms/step - loss: 0.8356 - accuracy: 0.5976 - val_loss: 0.7020 - val_accuracy: 0.5833\n",
      "Epoch 11/20\n",
      "5/5 [==============================] - 0s 16ms/step - loss: 0.7897 - accuracy: 0.6463 - val_loss: 0.6781 - val_accuracy: 0.6389\n",
      "Epoch 12/20\n",
      "5/5 [==============================] - 0s 17ms/step - loss: 0.7862 - accuracy: 0.6463 - val_loss: 0.6504 - val_accuracy: 0.5833\n",
      "Epoch 13/20\n",
      "5/5 [==============================] - 0s 17ms/step - loss: 0.8052 - accuracy: 0.6585 - val_loss: 0.6500 - val_accuracy: 0.6944\n",
      "Epoch 14/20\n",
      "5/5 [==============================] - 0s 17ms/step - loss: 0.8481 - accuracy: 0.6220 - val_loss: 0.7824 - val_accuracy: 0.5833\n",
      "Epoch 15/20\n",
      "5/5 [==============================] - 0s 16ms/step - loss: 0.7621 - accuracy: 0.6829 - val_loss: 0.8496 - val_accuracy: 0.5833\n",
      "Epoch 16/20\n",
      "5/5 [==============================] - 0s 16ms/step - loss: 0.8182 - accuracy: 0.5976 - val_loss: 0.6541 - val_accuracy: 0.6111\n",
      "Epoch 17/20\n",
      "5/5 [==============================] - 0s 16ms/step - loss: 0.7312 - accuracy: 0.6829 - val_loss: 0.6758 - val_accuracy: 0.6667\n",
      "Epoch 18/20\n",
      "5/5 [==============================] - 0s 15ms/step - loss: 0.7434 - accuracy: 0.6829 - val_loss: 0.7595 - val_accuracy: 0.6389\n",
      "Epoch 19/20\n",
      "5/5 [==============================] - 0s 14ms/step - loss: 0.7765 - accuracy: 0.6951 - val_loss: 0.7799 - val_accuracy: 0.5833\n",
      "Epoch 20/20\n",
      "5/5 [==============================] - 0s 15ms/step - loss: 0.7396 - accuracy: 0.6951 - val_loss: 0.6911 - val_accuracy: 0.6389\n"
     ]
    }
   ],
   "source": [
    "np.random.seed(42)\n",
    "tf.random.set_seed(42)\n",
    "\n",
    "optimizer = keras.optimizers.Adam(learning_rate=0.01)\n",
    "\n",
    "LTSM.compile(loss=\"sparse_categorical_crossentropy\", optimizer=optimizer, metrics=['accuracy'])\n",
    "\n",
    "history = LTSM.fit(train_x, train_y, epochs=20,\n",
    "                   validation_data = (test_x, test_y),\n",
    "                    batch_size=20, \n",
    "                    callbacks=callback)"
   ]
  },
  {
   "cell_type": "code",
   "execution_count": 33,
   "metadata": {},
   "outputs": [
    {
     "name": "stdout",
     "output_type": "stream",
     "text": [
      "loss: 0.69\n",
      "accuracy: 63.89%\n"
     ]
    }
   ],
   "source": [
    "# evaluate the model\n",
    "\n",
    "scores = LTSM.evaluate(test_x, test_y, verbose=0)\n",
    "print(\"%s: %.2f\" % (LTSM.metrics_names[0], scores[0]))\n",
    "print(\"%s: %.2f%%\" % (LTSM.metrics_names[1], scores[1]*100))"
   ]
  },
  {
   "cell_type": "markdown",
   "metadata": {},
   "source": [
    "# Build a deep LSTM Model (with only two layers) (2 points)"
   ]
  },
  {
   "cell_type": "code",
   "execution_count": 34,
   "metadata": {},
   "outputs": [],
   "source": [
    "n_steps = 20\n",
    "n_inputs = 1\n",
    "\n",
    "DLSTM = keras.models.Sequential([\n",
    "    keras.layers.LSTM(20, return_sequences=True, input_shape=[n_steps, n_inputs]),\n",
    "    keras.layers.LSTM(20, return_sequences=True),\n",
    "    keras.layers.LSTM(20),\n",
    "    keras.layers.Dense(5, activation='softmax'),\n",
    "])"
   ]
  },
  {
   "cell_type": "code",
   "execution_count": 35,
   "metadata": {},
   "outputs": [
    {
     "name": "stdout",
     "output_type": "stream",
     "text": [
      "Epoch 1/20\n",
      "5/5 [==============================] - 5s 276ms/step - loss: 1.5797 - accuracy: 0.2927 - val_loss: 1.1986 - val_accuracy: 0.5833\n",
      "Epoch 2/20\n",
      "5/5 [==============================] - 0s 25ms/step - loss: 1.2393 - accuracy: 0.5000 - val_loss: 1.0822 - val_accuracy: 0.5833\n",
      "Epoch 3/20\n",
      "5/5 [==============================] - 0s 28ms/step - loss: 1.2690 - accuracy: 0.5122 - val_loss: 1.0162 - val_accuracy: 0.6389\n",
      "Epoch 4/20\n",
      "5/5 [==============================] - 0s 29ms/step - loss: 1.0900 - accuracy: 0.5244 - val_loss: 0.9621 - val_accuracy: 0.5833\n",
      "Epoch 5/20\n",
      "5/5 [==============================] - 0s 28ms/step - loss: 1.1054 - accuracy: 0.5366 - val_loss: 0.9298 - val_accuracy: 0.6389\n",
      "Epoch 6/20\n",
      "5/5 [==============================] - 0s 28ms/step - loss: 1.0347 - accuracy: 0.5732 - val_loss: 0.9413 - val_accuracy: 0.6389\n",
      "Epoch 7/20\n",
      "5/5 [==============================] - 0s 28ms/step - loss: 0.9513 - accuracy: 0.5244 - val_loss: 0.8531 - val_accuracy: 0.5556\n",
      "Epoch 8/20\n",
      "5/5 [==============================] - 0s 29ms/step - loss: 0.9428 - accuracy: 0.5366 - val_loss: 0.8061 - val_accuracy: 0.6111\n",
      "Epoch 9/20\n",
      "5/5 [==============================] - 0s 30ms/step - loss: 0.9991 - accuracy: 0.5854 - val_loss: 0.8522 - val_accuracy: 0.5833\n",
      "Epoch 10/20\n",
      "5/5 [==============================] - 0s 29ms/step - loss: 0.8981 - accuracy: 0.5976 - val_loss: 0.7930 - val_accuracy: 0.5833\n",
      "Epoch 11/20\n",
      "5/5 [==============================] - 0s 29ms/step - loss: 0.9757 - accuracy: 0.5122 - val_loss: 0.8271 - val_accuracy: 0.6111\n",
      "Epoch 12/20\n",
      "5/5 [==============================] - 0s 29ms/step - loss: 0.9758 - accuracy: 0.5854 - val_loss: 0.9821 - val_accuracy: 0.5556\n",
      "Epoch 13/20\n",
      "5/5 [==============================] - 0s 28ms/step - loss: 0.9962 - accuracy: 0.6463 - val_loss: 0.7146 - val_accuracy: 0.7778\n",
      "Epoch 14/20\n",
      "5/5 [==============================] - 0s 27ms/step - loss: 0.9119 - accuracy: 0.6098 - val_loss: 0.7184 - val_accuracy: 0.6111\n",
      "Epoch 15/20\n",
      "5/5 [==============================] - 0s 29ms/step - loss: 0.8686 - accuracy: 0.5732 - val_loss: 0.8468 - val_accuracy: 0.5556\n",
      "Epoch 16/20\n",
      "5/5 [==============================] - 0s 28ms/step - loss: 0.8521 - accuracy: 0.6220 - val_loss: 0.7529 - val_accuracy: 0.6944\n",
      "Epoch 17/20\n",
      "5/5 [==============================] - 0s 28ms/step - loss: 0.8162 - accuracy: 0.6707 - val_loss: 0.6797 - val_accuracy: 0.6111\n",
      "Epoch 18/20\n",
      "5/5 [==============================] - 0s 26ms/step - loss: 0.8334 - accuracy: 0.6463 - val_loss: 0.6726 - val_accuracy: 0.6944\n",
      "Epoch 19/20\n",
      "5/5 [==============================] - 0s 26ms/step - loss: 0.7777 - accuracy: 0.6951 - val_loss: 0.7574 - val_accuracy: 0.7222\n",
      "Epoch 20/20\n",
      "5/5 [==============================] - 0s 26ms/step - loss: 0.7942 - accuracy: 0.6463 - val_loss: 0.6489 - val_accuracy: 0.7222\n"
     ]
    }
   ],
   "source": [
    "np.random.seed(42)\n",
    "tf.random.set_seed(42)\n",
    "\n",
    "optimizer = keras.optimizers.Adam(learning_rate=0.01)\n",
    "\n",
    "DLSTM.compile(loss=\"sparse_categorical_crossentropy\", optimizer=optimizer, metrics=['accuracy'])\n",
    "\n",
    "history = DLSTM.fit(train_x, train_y, epochs=20,\n",
    "                    batch_size=20, \n",
    "                   validation_data = (test_x, test_y),\n",
    "                    callbacks=callback)"
   ]
  },
  {
   "cell_type": "code",
   "execution_count": 36,
   "metadata": {},
   "outputs": [
    {
     "name": "stdout",
     "output_type": "stream",
     "text": [
      "loss: 0.65\n",
      "accuracy: 72.22%\n"
     ]
    }
   ],
   "source": [
    "# evaluate the model\n",
    "\n",
    "scores = DLSTM.evaluate(test_x, test_y, verbose=0)\n",
    "print(\"%s: %.2f\" % (DLSTM.metrics_names[0], scores[0]))\n",
    "print(\"%s: %.2f%%\" % (DLSTM.metrics_names[1], scores[1]*100))"
   ]
  },
  {
   "cell_type": "markdown",
   "metadata": {},
   "source": [
    "# Build a GRU Model (with only one layer) (2 points)"
   ]
  },
  {
   "cell_type": "code",
   "execution_count": 37,
   "metadata": {},
   "outputs": [],
   "source": [
    "n_steps = 20\n",
    "n_inputs = 1\n",
    "\n",
    "GRU = keras.models.Sequential([\n",
    "    keras.layers.GRU(20, input_shape=[n_steps, n_inputs]),\n",
    "    keras.layers.Dense(5, activation='softmax')\n",
    "])"
   ]
  },
  {
   "cell_type": "code",
   "execution_count": 38,
   "metadata": {},
   "outputs": [
    {
     "name": "stdout",
     "output_type": "stream",
     "text": [
      "Epoch 1/20\n",
      "5/5 [==============================] - 2s 102ms/step - loss: 1.4233 - accuracy: 0.3902 - val_loss: 1.1251 - val_accuracy: 0.5556\n",
      "Epoch 2/20\n",
      "5/5 [==============================] - 0s 16ms/step - loss: 1.2405 - accuracy: 0.4878 - val_loss: 1.0106 - val_accuracy: 0.5833\n",
      "Epoch 3/20\n",
      "5/5 [==============================] - 0s 18ms/step - loss: 1.1369 - accuracy: 0.5122 - val_loss: 0.9083 - val_accuracy: 0.5833\n",
      "Epoch 4/20\n",
      "5/5 [==============================] - 0s 16ms/step - loss: 1.0523 - accuracy: 0.5244 - val_loss: 0.8338 - val_accuracy: 0.5833\n",
      "Epoch 5/20\n",
      "5/5 [==============================] - 0s 15ms/step - loss: 0.9556 - accuracy: 0.5488 - val_loss: 0.7860 - val_accuracy: 0.6111\n",
      "Epoch 6/20\n",
      "5/5 [==============================] - 0s 16ms/step - loss: 0.9133 - accuracy: 0.5122 - val_loss: 0.7255 - val_accuracy: 0.6389\n",
      "Epoch 7/20\n",
      "5/5 [==============================] - 0s 16ms/step - loss: 0.8978 - accuracy: 0.5854 - val_loss: 0.7006 - val_accuracy: 0.6667\n",
      "Epoch 8/20\n",
      "5/5 [==============================] - 0s 19ms/step - loss: 0.8979 - accuracy: 0.5854 - val_loss: 0.6872 - val_accuracy: 0.6389\n",
      "Epoch 9/20\n",
      "5/5 [==============================] - 0s 17ms/step - loss: 0.8636 - accuracy: 0.5854 - val_loss: 0.7247 - val_accuracy: 0.5556\n",
      "Epoch 10/20\n",
      "5/5 [==============================] - 0s 16ms/step - loss: 0.8403 - accuracy: 0.5488 - val_loss: 0.7347 - val_accuracy: 0.6389\n",
      "Epoch 11/20\n",
      "5/5 [==============================] - 0s 17ms/step - loss: 0.8747 - accuracy: 0.5732 - val_loss: 0.7767 - val_accuracy: 0.6389\n",
      "Epoch 12/20\n",
      "5/5 [==============================] - 0s 16ms/step - loss: 0.8325 - accuracy: 0.5976 - val_loss: 0.7753 - val_accuracy: 0.5556\n",
      "Epoch 13/20\n",
      "5/5 [==============================] - 0s 18ms/step - loss: 0.9044 - accuracy: 0.6341 - val_loss: 0.7275 - val_accuracy: 0.6667\n",
      "Epoch 14/20\n",
      "5/5 [==============================] - 0s 16ms/step - loss: 0.8568 - accuracy: 0.6098 - val_loss: 0.6472 - val_accuracy: 0.6667\n",
      "Epoch 15/20\n",
      "5/5 [==============================] - 0s 17ms/step - loss: 0.8829 - accuracy: 0.6098 - val_loss: 0.6567 - val_accuracy: 0.6111\n",
      "Epoch 16/20\n",
      "5/5 [==============================] - 0s 17ms/step - loss: 0.8691 - accuracy: 0.6220 - val_loss: 0.6777 - val_accuracy: 0.5833\n",
      "Epoch 17/20\n",
      "5/5 [==============================] - 0s 17ms/step - loss: 0.7989 - accuracy: 0.5976 - val_loss: 0.7375 - val_accuracy: 0.6111\n",
      "Epoch 18/20\n",
      "5/5 [==============================] - 0s 16ms/step - loss: 0.8576 - accuracy: 0.5854 - val_loss: 0.7272 - val_accuracy: 0.6111\n",
      "Epoch 19/20\n",
      "5/5 [==============================] - 0s 16ms/step - loss: 0.8125 - accuracy: 0.6098 - val_loss: 0.6476 - val_accuracy: 0.6111\n",
      "Epoch 20/20\n",
      "5/5 [==============================] - 0s 17ms/step - loss: 0.8437 - accuracy: 0.5854 - val_loss: 0.6048 - val_accuracy: 0.6944\n"
     ]
    }
   ],
   "source": [
    "np.random.seed(42)\n",
    "tf.random.set_seed(42)\n",
    "\n",
    "optimizer = keras.optimizers.Adam(learning_rate=0.01)\n",
    "\n",
    "GRU.compile(loss=\"sparse_categorical_crossentropy\", optimizer=optimizer, metrics=['accuracy'])\n",
    "\n",
    "history = GRU.fit(train_x, train_y, epochs=20,\n",
    "                   validation_data = (test_x, test_y),\n",
    "                    batch_size=20, \n",
    "                    callbacks=callback)"
   ]
  },
  {
   "cell_type": "code",
   "execution_count": 39,
   "metadata": {},
   "outputs": [
    {
     "name": "stdout",
     "output_type": "stream",
     "text": [
      "loss: 0.60\n",
      "accuracy: 69.44%\n"
     ]
    }
   ],
   "source": [
    "# evaluate the model\n",
    "\n",
    "scores = GRU.evaluate(test_x, test_y, verbose=0)\n",
    "print(\"%s: %.2f\" % (GRU.metrics_names[0], scores[0]))\n",
    "print(\"%s: %.2f%%\" % (GRU.metrics_names[1], scores[1]*100))"
   ]
  },
  {
   "cell_type": "markdown",
   "metadata": {},
   "source": [
    "# Build a deep GRU Model (with only two layers) (2 points)"
   ]
  },
  {
   "cell_type": "code",
   "execution_count": 40,
   "metadata": {},
   "outputs": [],
   "source": [
    "n_steps = 20\n",
    "n_inputs = 1\n",
    "\n",
    "DGRU = keras.models.Sequential([\n",
    "    keras.layers.GRU(20, return_sequences=True, input_shape=[n_steps, n_inputs]),\n",
    "    keras.layers.GRU(20, return_sequences=True),\n",
    "    keras.layers.GRU(20),\n",
    "    keras.layers.Dense(5, activation='softmax')\n",
    "])"
   ]
  },
  {
   "cell_type": "code",
   "execution_count": 41,
   "metadata": {},
   "outputs": [
    {
     "name": "stdout",
     "output_type": "stream",
     "text": [
      "Epoch 1/20\n",
      "5/5 [==============================] - 4s 219ms/step - loss: 1.4318 - accuracy: 0.3415 - val_loss: 1.0119 - val_accuracy: 0.5833\n",
      "Epoch 2/20\n",
      "5/5 [==============================] - 0s 29ms/step - loss: 1.1810 - accuracy: 0.5122 - val_loss: 0.8539 - val_accuracy: 0.5833\n",
      "Epoch 3/20\n",
      "5/5 [==============================] - 0s 29ms/step - loss: 1.0402 - accuracy: 0.5000 - val_loss: 1.0260 - val_accuracy: 0.6111\n",
      "Epoch 4/20\n",
      "5/5 [==============================] - 0s 30ms/step - loss: 1.1747 - accuracy: 0.4878 - val_loss: 0.8966 - val_accuracy: 0.6111\n",
      "Epoch 5/20\n",
      "5/5 [==============================] - 0s 30ms/step - loss: 1.0345 - accuracy: 0.5366 - val_loss: 0.8378 - val_accuracy: 0.6111\n",
      "Epoch 6/20\n",
      "5/5 [==============================] - 0s 30ms/step - loss: 1.0101 - accuracy: 0.5244 - val_loss: 0.7663 - val_accuracy: 0.6111\n",
      "Epoch 7/20\n",
      "5/5 [==============================] - 0s 30ms/step - loss: 0.9349 - accuracy: 0.5610 - val_loss: 0.7965 - val_accuracy: 0.6111\n",
      "Epoch 8/20\n",
      "5/5 [==============================] - 0s 30ms/step - loss: 0.9260 - accuracy: 0.5488 - val_loss: 0.7291 - val_accuracy: 0.6111\n",
      "Epoch 9/20\n",
      "5/5 [==============================] - 0s 29ms/step - loss: 0.9927 - accuracy: 0.5610 - val_loss: 0.7617 - val_accuracy: 0.6111\n",
      "Epoch 10/20\n",
      "5/5 [==============================] - 0s 29ms/step - loss: 0.9017 - accuracy: 0.5610 - val_loss: 0.8478 - val_accuracy: 0.6111\n",
      "Epoch 11/20\n",
      "5/5 [==============================] - 0s 29ms/step - loss: 0.9469 - accuracy: 0.5366 - val_loss: 0.7887 - val_accuracy: 0.5833\n",
      "Epoch 12/20\n",
      "5/5 [==============================] - 0s 30ms/step - loss: 0.9879 - accuracy: 0.5244 - val_loss: 0.8249 - val_accuracy: 0.6111\n",
      "Epoch 13/20\n",
      "5/5 [==============================] - 0s 30ms/step - loss: 1.0226 - accuracy: 0.5488 - val_loss: 0.6762 - val_accuracy: 0.6667\n",
      "Epoch 14/20\n",
      "5/5 [==============================] - 0s 29ms/step - loss: 0.8803 - accuracy: 0.5976 - val_loss: 0.7678 - val_accuracy: 0.6111\n",
      "Epoch 15/20\n",
      "5/5 [==============================] - 0s 29ms/step - loss: 0.8570 - accuracy: 0.6220 - val_loss: 0.8177 - val_accuracy: 0.6944\n",
      "Epoch 16/20\n",
      "5/5 [==============================] - 0s 31ms/step - loss: 0.8437 - accuracy: 0.6220 - val_loss: 0.7936 - val_accuracy: 0.6389\n",
      "Epoch 17/20\n",
      "5/5 [==============================] - 0s 31ms/step - loss: 0.8162 - accuracy: 0.6341 - val_loss: 0.7010 - val_accuracy: 0.6944\n",
      "Epoch 18/20\n",
      "5/5 [==============================] - 0s 31ms/step - loss: 0.7799 - accuracy: 0.6463 - val_loss: 0.7062 - val_accuracy: 0.6389\n",
      "Epoch 19/20\n",
      "5/5 [==============================] - 0s 30ms/step - loss: 0.7762 - accuracy: 0.6463 - val_loss: 0.6405 - val_accuracy: 0.6667\n",
      "Epoch 20/20\n",
      "5/5 [==============================] - 0s 29ms/step - loss: 0.7770 - accuracy: 0.6585 - val_loss: 0.5729 - val_accuracy: 0.7222\n"
     ]
    }
   ],
   "source": [
    "np.random.seed(42)\n",
    "tf.random.set_seed(42)\n",
    "\n",
    "optimizer = keras.optimizers.Adam(learning_rate=0.01)\n",
    "\n",
    "DGRU.compile(loss=\"sparse_categorical_crossentropy\", optimizer=optimizer, metrics=['accuracy'])\n",
    "\n",
    "history = DGRU.fit(train_x, train_y, epochs=20,\n",
    "                   validation_data = (test_x, test_y),\n",
    "                    batch_size=20, \n",
    "                    callbacks=callback\n",
    "                   )"
   ]
  },
  {
   "cell_type": "code",
   "execution_count": 42,
   "metadata": {},
   "outputs": [
    {
     "name": "stdout",
     "output_type": "stream",
     "text": [
      "loss: 0.57\n",
      "accuracy: 72.22%\n"
     ]
    }
   ],
   "source": [
    "# evaluate the model\n",
    "\n",
    "scores = DGRU.evaluate(test_x, test_y, verbose=0)\n",
    "print(\"%s: %.2f\" % (DGRU.metrics_names[0], scores[0]))\n",
    "print(\"%s: %.2f%%\" % (DGRU.metrics_names[1], scores[1]*100))"
   ]
  },
  {
   "cell_type": "markdown",
   "metadata": {},
   "source": [
    "# Discussion"
   ]
  },
  {
   "cell_type": "markdown",
   "metadata": {},
   "source": [
    "## List the test values of each model you built (0.5 points)"
   ]
  },
  {
   "cell_type": "raw",
   "metadata": {},
   "source": [
    "NN Test 67%\n",
    "DNN Test 61%\n",
    "LSTM 64%\n",
    "DLSTM 72%\n",
    "GRU 69%\n",
    "DGRU 72%"
   ]
  },
  {
   "cell_type": "markdown",
   "metadata": {},
   "source": [
    "## Which model performs the best and why? (0.5 points) "
   ]
  },
  {
   "cell_type": "raw",
   "metadata": {},
   "source": [
    "The Deep layer Long Short-Term Memory (DLSTM) model and the Deep layer Gated Recurrent Unit (DGRU) performs the best scoring the highest accuracy. Several iterations by restarting the kernal and running all cells showed the DLSTM consistently performed the best."
   ]
  },
  {
   "cell_type": "markdown",
   "metadata": {},
   "source": [
    "## How does it compare to baseline? (0.5 points)"
   ]
  },
  {
   "cell_type": "raw",
   "metadata": {},
   "source": [
    "baseline Test: 44%\n",
    "All my models outperformed the baseline.\n",
    "\n",
    "Of note, I maintained consistent parameters throughout the models for better comparison. I didn't spend time tweeking each model to find optimal results for each."
   ]
  },
  {
   "cell_type": "markdown",
   "metadata": {},
   "source": [
    "# Extra credit: 2 points\n",
    "\n",
    "The dataset is very small. This means your test values are likely unreliable. Use your best model and run a 10-fold cross validation on it. Then, find and report the mean accuracy score.\n",
    "\n",
    "Note: to be eligible for this extra credit, you should run your 10-fold cross validation on the unsplit data."
   ]
  },
  {
   "cell_type": "code",
   "execution_count": 43,
   "metadata": {},
   "outputs": [],
   "source": [
    "# Convert data to appropriate dimension array for keras\n",
    "y = movement['Target'].values\n",
    "x = movement.drop('Target', axis=1).values"
   ]
  },
  {
   "cell_type": "code",
   "execution_count": 44,
   "metadata": {},
   "outputs": [],
   "source": [
    "x=x.reshape(-1,n_steps, n_inputs)"
   ]
  },
  {
   "cell_type": "code",
   "execution_count": 45,
   "metadata": {},
   "outputs": [],
   "source": [
    "from sklearn.model_selection import StratifiedKFold\n",
    "\n",
    "accuracy_scores = []\n",
    "\n",
    "# Initialize StratifiedKFold\n",
    "kf = StratifiedKFold(n_splits=10, shuffle=True, random_state=42)"
   ]
  },
  {
   "cell_type": "code",
   "execution_count": 46,
   "metadata": {},
   "outputs": [
    {
     "name": "stdout",
     "output_type": "stream",
     "text": [
      "Epoch 13: early stopping\n",
      "1/1 [==============================] - 1s 741ms/step\n",
      "Epoch 14: early stopping\n",
      "1/1 [==============================] - 0s 25ms/step\n",
      "Epoch 10: early stopping\n",
      "1/1 [==============================] - 0s 26ms/step\n",
      "Epoch 10: early stopping\n",
      "1/1 [==============================] - 0s 25ms/step\n",
      "1/1 [==============================] - 0s 24ms/step\n",
      "Epoch 18: early stopping\n",
      "1/1 [==============================] - 0s 25ms/step\n",
      "1/1 [==============================] - 0s 23ms/step\n",
      "Epoch 7: early stopping\n",
      "1/1 [==============================] - 0s 25ms/step\n",
      "1/1 [==============================] - 0s 25ms/step\n",
      "Epoch 8: early stopping\n",
      "1/1 [==============================] - 0s 26ms/step\n"
     ]
    }
   ],
   "source": [
    "# Iterate through folds\n",
    "for train_index, test_index in kf.split(x, y):\n",
    "    train_x, test_x = x[train_index], x[test_index]\n",
    "    train_y, test_y = y[train_index], y[test_index]\n",
    "\n",
    "    # Train the model\n",
    "    history = DLSTM.fit(train_x, train_y, epochs=20, batch_size=12, callbacks=callback, verbose=0)\n",
    "    \n",
    "    # Evaluate the model on the test set\n",
    "    y_pred = DLSTM.predict(test_x)\n",
    "    y_pred_classes = np.argmax(y_pred, axis=1)\n",
    "    \n",
    "    # Calculate accuracy for this fold\n",
    "    accuracy = accuracy_score(test_y, y_pred_classes)\n",
    "    accuracy_scores.append(accuracy)"
   ]
  },
  {
   "cell_type": "code",
   "execution_count": 47,
   "metadata": {},
   "outputs": [],
   "source": [
    "# Calculate the mean accuracy score\n",
    "mean_accuracy = np.mean(accuracy_scores)"
   ]
  },
  {
   "cell_type": "code",
   "execution_count": 48,
   "metadata": {},
   "outputs": [
    {
     "data": {
      "text/plain": [
       "[0.5833333333333334,\n",
       " 0.75,\n",
       " 0.6666666666666666,\n",
       " 0.75,\n",
       " 0.75,\n",
       " 0.75,\n",
       " 0.8333333333333334,\n",
       " 0.8333333333333334,\n",
       " 0.6363636363636364,\n",
       " 0.9090909090909091]"
      ]
     },
     "execution_count": 48,
     "metadata": {},
     "output_type": "execute_result"
    }
   ],
   "source": [
    "accuracy_scores"
   ]
  },
  {
   "cell_type": "code",
   "execution_count": 49,
   "metadata": {},
   "outputs": [
    {
     "name": "stdout",
     "output_type": "stream",
     "text": [
      "Mean Accuracy Score: 0.7462121212121213\n"
     ]
    }
   ],
   "source": [
    "# Report the mean accuracy score\n",
    "print(\"Mean Accuracy Score:\", mean_accuracy)"
   ]
  }
 ],
 "metadata": {
  "kernelspec": {
   "display_name": "Python 3 (ipykernel)",
   "language": "python",
   "name": "python3"
  },
  "language_info": {
   "codemirror_mode": {
    "name": "ipython",
    "version": 3
   },
   "file_extension": ".py",
   "mimetype": "text/x-python",
   "name": "python",
   "nbconvert_exporter": "python",
   "pygments_lexer": "ipython3",
   "version": "3.9.13"
  },
  "toc": {
   "base_numbering": 1,
   "nav_menu": {},
   "number_sections": false,
   "sideBar": true,
   "skip_h1_title": true,
   "title_cell": "Table of Contents",
   "title_sidebar": "Contents",
   "toc_cell": false,
   "toc_position": {},
   "toc_section_display": true,
   "toc_window_display": false
  },
  "varInspector": {
   "cols": {
    "lenName": 16,
    "lenType": 16,
    "lenVar": 40
   },
   "kernels_config": {
    "python": {
     "delete_cmd_postfix": "",
     "delete_cmd_prefix": "del ",
     "library": "var_list.py",
     "varRefreshCmd": "print(var_dic_list())"
    },
    "r": {
     "delete_cmd_postfix": ") ",
     "delete_cmd_prefix": "rm(",
     "library": "var_list.r",
     "varRefreshCmd": "cat(var_dic_list()) "
    }
   },
   "types_to_exclude": [
    "module",
    "function",
    "builtin_function_or_method",
    "instance",
    "_Feature"
   ],
   "window_display": false
  }
 },
 "nbformat": 4,
 "nbformat_minor": 2
}
